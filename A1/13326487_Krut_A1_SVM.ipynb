{
  "nbformat": 4,
  "nbformat_minor": 0,
  "metadata": {
    "colab": {
      "name": "13326487_Krut_A1_SVM.ipynb",
      "provenance": [],
      "collapsed_sections": [
        "yJTyDKYbN_zu",
        "6Ytk0mgGPbZj",
        "-NglO5-cYXHy",
        "4-njWYtIgzBV"
      ],
      "toc_visible": true
    },
    "kernelspec": {
      "name": "python3",
      "display_name": "Python 3"
    }
  },
  "cells": [
    {
      "cell_type": "markdown",
      "metadata": {
        "id": "POZE1y-rJa-i",
        "colab_type": "text"
      },
      "source": [
        "#      1.   Preprocessing\n"
      ]
    },
    {
      "cell_type": "markdown",
      "metadata": {
        "id": "gxd9TKyVJnXI",
        "colab_type": "text"
      },
      "source": [
        "  ## 1.1.   Importing Libraries"
      ]
    },
    {
      "cell_type": "code",
      "metadata": {
        "id": "a0l8gB8ih6Ya",
        "colab_type": "code",
        "colab": {}
      },
      "source": [
        "import cv2\n",
        "import matplotlib.pyplot  as plt\n",
        "import numpy              as np\n",
        "import pandas             as pd\n",
        "from sklearn              import svm\n",
        "from sklearn              import metrics\n",
        "from sklearn.metrics      import accuracy_score\n",
        "from skimage              import feature\n",
        "\n",
        "%matplotlib inline"
      ],
      "execution_count": 0,
      "outputs": []
    },
    {
      "cell_type": "markdown",
      "metadata": {
        "id": "A8EmvqndJs8M",
        "colab_type": "text"
      },
      "source": [
        "## 1.2.   Mounting Google Drive\n"
      ]
    },
    {
      "cell_type": "code",
      "metadata": {
        "id": "zUXHAqkiJp7y",
        "colab_type": "code",
        "outputId": "703e1361-4c3a-407f-87f4-bfb295d06bd6",
        "colab": {
          "base_uri": "https://localhost:8080/",
          "height": 34
        }
      },
      "source": [
        "from google.colab import drive\n",
        "drive.mount('/content/gdrive/')"
      ],
      "execution_count": 20,
      "outputs": [
        {
          "output_type": "stream",
          "text": [
            "Drive already mounted at /content/gdrive/; to attempt to forcibly remount, call drive.mount(\"/content/gdrive/\", force_remount=True).\n"
          ],
          "name": "stdout"
        }
      ]
    },
    {
      "cell_type": "code",
      "metadata": {
        "id": "Hi_kKeI0Jtyx",
        "colab_type": "code",
        "outputId": "2622021e-30f5-4f35-8a22-e539d2b7731c",
        "colab": {
          "base_uri": "https://localhost:8080/",
          "height": 34
        }
      },
      "source": [
        "cd /content/gdrive/My\\ Drive/a1"
      ],
      "execution_count": 21,
      "outputs": [
        {
          "output_type": "stream",
          "text": [
            "/content/gdrive/My Drive/a1\n"
          ],
          "name": "stdout"
        }
      ]
    },
    {
      "cell_type": "code",
      "metadata": {
        "id": "WYR2uFqlJuNN",
        "colab_type": "code",
        "outputId": "e11ab6cc-66ae-40a2-b3ef-20afda90f8e4",
        "colab": {
          "base_uri": "https://localhost:8080/",
          "height": 102
        }
      },
      "source": [
        "ls"
      ],
      "execution_count": 22,
      "outputs": [
        {
          "output_type": "stream",
          "text": [
            "13326487_Krut_A1_ANN.ipynb  t10k-images-idx3-ubyte.gz\n",
            "13326487_Krut_A1.ipynb      t10k-labels-idx1-ubyte.gz\n",
            "13326487_Krut_A1_KNN.ipynb  train-images-idx3-ubyte.gz\n",
            "13326487_Krut_A1_SVM.ipynb  train-labels-idx1-ubyte.gz\n",
            "DNN_A1.ipynb\n"
          ],
          "name": "stdout"
        }
      ]
    },
    {
      "cell_type": "markdown",
      "metadata": {
        "id": "Ic_eqAS6LdUX",
        "colab_type": "text"
      },
      "source": [
        "\n",
        "\n",
        "## 1.3.   Dataset Preparation\n",
        "\n",
        "\n"
      ]
    },
    {
      "cell_type": "code",
      "metadata": {
        "id": "IRdwoX5xLrgx",
        "colab_type": "code",
        "colab": {}
      },
      "source": [
        "#defining the loading function\n",
        "def load_mnist(path, kind='train'):\n",
        "    import os\n",
        "    import gzip\n",
        "    import numpy as np\n",
        "\n",
        "    \"\"\"Load MNIST data from `path`\"\"\"\n",
        "    labels_path = os.path.join(path, '%s-labels-idx1-ubyte.gz'% kind)\n",
        "    images_path = os.path.join(path, '%s-images-idx3-ubyte.gz'% kind)\n",
        "\n",
        "    with gzip.open(labels_path, 'rb') as lbpath:\n",
        "        labels = np.frombuffer(lbpath.read(), dtype=np.uint8, offset=8)\n",
        "\n",
        "    with gzip.open(images_path, 'rb') as imgpath:\n",
        "        images = np.frombuffer(imgpath.read(), dtype=np.uint8, offset=16).reshape(len(labels), 784)\n",
        "\n",
        "    return images, labels"
      ],
      "execution_count": 0,
      "outputs": []
    },
    {
      "cell_type": "code",
      "metadata": {
        "id": "47qVmLGtL1Q2",
        "colab_type": "code",
        "colab": {}
      },
      "source": [
        "#Importing data into variables\n",
        "x_train, y_train = load_mnist('/content/gdrive/My Drive/a1', kind='train')\n",
        "x_test, y_test = load_mnist('/content/gdrive/My Drive/a1', kind='t10k')\n",
        "# initialize the label names\n",
        "\n",
        "labelNames = [\"0\", \"1\", \"2\",\"3\", \"4\", \"5\", \"6\", \"7\", \"8\", \"9\"]"
      ],
      "execution_count": 0,
      "outputs": []
    },
    {
      "cell_type": "code",
      "metadata": {
        "id": "UeHQ2294MCUT",
        "colab_type": "code",
        "outputId": "0ef6ac11-1a3d-4e6c-8524-0f234d9dcdf9",
        "colab": {
          "base_uri": "https://localhost:8080/",
          "height": 34
        }
      },
      "source": [
        "#checking Dimentions of x_train\n",
        "np.shape(x_train)"
      ],
      "execution_count": 25,
      "outputs": [
        {
          "output_type": "execute_result",
          "data": {
            "text/plain": [
              "(60000, 784)"
            ]
          },
          "metadata": {
            "tags": []
          },
          "execution_count": 25
        }
      ]
    },
    {
      "cell_type": "code",
      "metadata": {
        "id": "vWxf1yoIMNbA",
        "colab_type": "code",
        "colab": {}
      },
      "source": [
        "#converting vector data into Pixels\n",
        "p_x_train = x_train.reshape(-1,28,28)\n",
        "p_x_test = x_test.reshape(-1,28,28)"
      ],
      "execution_count": 0,
      "outputs": []
    },
    {
      "cell_type": "code",
      "metadata": {
        "id": "6ESQmLFiMViu",
        "colab_type": "code",
        "colab": {}
      },
      "source": [
        "#Normalizing Data\n",
        "n_x_train = x_train / 255\n",
        "n_x_test = x_test / 255"
      ],
      "execution_count": 0,
      "outputs": []
    },
    {
      "cell_type": "code",
      "metadata": {
        "id": "lmS1PVUlMmKQ",
        "colab_type": "code",
        "colab": {}
      },
      "source": [
        "# Reshaping Normalized data\n",
        "r_x_train = n_x_train.reshape(-1,28,28)\n",
        "r_x_test = n_x_test.reshape(-1,28,28)"
      ],
      "execution_count": 0,
      "outputs": []
    },
    {
      "cell_type": "code",
      "metadata": {
        "id": "OxctzhLkMunI",
        "colab_type": "code",
        "outputId": "6a7ade42-9cf2-482d-994b-f344dacfd600",
        "colab": {
          "base_uri": "https://localhost:8080/",
          "height": 34
        }
      },
      "source": [
        "#checking Dimentions of x_train\n",
        "np.shape(r_x_train)"
      ],
      "execution_count": 29,
      "outputs": [
        {
          "output_type": "execute_result",
          "data": {
            "text/plain": [
              "(60000, 28, 28)"
            ]
          },
          "metadata": {
            "tags": []
          },
          "execution_count": 29
        }
      ]
    },
    {
      "cell_type": "markdown",
      "metadata": {
        "id": "yJTyDKYbN_zu",
        "colab_type": "text"
      },
      "source": [
        "\n",
        "\n",
        "## 1.4.   Image Plotting (Visualization)\n",
        "\n"
      ]
    },
    {
      "cell_type": "code",
      "metadata": {
        "id": "u0k4YCsAN-9X",
        "colab_type": "code",
        "colab": {}
      },
      "source": [
        "#storing image from each class\n",
        "int_labels =np.asarray(labelNames, dtype=np.int)\n",
        "class_img = []\n",
        "\n",
        "for i in range(0,10):\n",
        "  train_list = list(y_train)\n",
        "  inter = train_list.index(int_labels[i])\n",
        "  class_img.append(inter)"
      ],
      "execution_count": 0,
      "outputs": []
    },
    {
      "cell_type": "code",
      "metadata": {
        "id": "u95qE2Cf6-le",
        "colab_type": "code",
        "outputId": "1f289b03-15ff-44a4-a2d5-c9a8c5d4f2ac",
        "colab": {
          "base_uri": "https://localhost:8080/",
          "height": 102
        }
      },
      "source": [
        "#plotting image of each class\n",
        "fig = plt.figure(figsize=(15,15))\n",
        "for i in range (1,11):\n",
        "  fig.add_subplot(1,10,i)\n",
        "  plt.imshow(p_x_train[class_img[i-1]])\n",
        "  plt.axis('off')\n",
        "\n",
        "plt.show()"
      ],
      "execution_count": 31,
      "outputs": [
        {
          "output_type": "display_data",
          "data": {
            "image/png": "[encoded data removed]",
            "text/plain": [
              "<Figure size 1080x1080 with 10 Axes>"
            ]
          },
          "metadata": {
            "tags": [],
            "needs_background": "light"
          }
        }
      ]
    },
    {
      "cell_type": "markdown",
      "metadata": {
        "id": "bdFi634hPZfJ",
        "colab_type": "text"
      },
      "source": [
        "\n",
        "\n",
        "# 2.   Feature Extraction\n",
        "\n",
        "\n"
      ]
    },
    {
      "cell_type": "markdown",
      "metadata": {
        "id": "6Ytk0mgGPbZj",
        "colab_type": "text"
      },
      "source": [
        "## 2.1.   HoG\n",
        "\n",
        "\n"
      ]
    },
    {
      "cell_type": "code",
      "metadata": {
        "id": "PQiEQlhVPqkj",
        "colab_type": "code",
        "outputId": "27220fc1-c2ca-40b1-faf3-74bc2744c813",
        "colab": {
          "base_uri": "https://localhost:8080/",
          "height": 51
        }
      },
      "source": [
        "# Extracting HoG feature from training dataset\n",
        "h_x_train = []\n",
        "h_y_train = []\n",
        "\n",
        "#Extracting feature from one image at a time\n",
        "for i in range(len(r_x_train)):\n",
        "  img = (r_x_train[i])\n",
        "  hog = feature.hog(img, orientations=9, pixels_per_cell=(10, 10), cells_per_block=(2, 2), transform_sqrt=True, block_norm=\"L2-Hys\")\n",
        "  h_x_train.append(hog)\n",
        "  h_y_train.append(y_train[i])\n",
        "\n",
        "\n",
        "\n",
        "print(np.shape(h_x_train))\n",
        "print(np.shape(h_y_train))"
      ],
      "execution_count": 32,
      "outputs": [
        {
          "output_type": "stream",
          "text": [
            "(60000, 36)\n",
            "(60000,)\n"
          ],
          "name": "stdout"
        }
      ]
    },
    {
      "cell_type": "code",
      "metadata": {
        "id": "3vRRO7d2P6TF",
        "colab_type": "code",
        "outputId": "302ea5f7-09d5-49db-a466-da5ed72887c3",
        "colab": {
          "base_uri": "https://localhost:8080/",
          "height": 68
        }
      },
      "source": [
        "# Extracting HoG feature from testing dataset\n",
        "h_x_test = []\n",
        "h_y_test = []\n",
        "\n",
        "for i in range(len(r_x_test)):\n",
        "  hog_img = (r_x_test[i])\n",
        "  hog = feature.hog(hog_img, orientations=9, pixels_per_cell=(10,10), cells_per_block=(2,2), transform_sqrt=True, block_norm=\"L2-Hys\")\n",
        "\n",
        "  h_x_test.append(hog)\n",
        "  h_y_test.append(y_test[i])\n",
        "\n",
        "\n",
        "print(np.shape(h_x_test))\n",
        "print(np.shape(h_y_test))\n",
        "print(h_y_test[0])"
      ],
      "execution_count": 33,
      "outputs": [
        {
          "output_type": "stream",
          "text": [
            "(10000, 36)\n",
            "(10000,)\n",
            "7\n"
          ],
          "name": "stdout"
        }
      ]
    },
    {
      "cell_type": "markdown",
      "metadata": {
        "id": "-NglO5-cYXHy",
        "colab_type": "text"
      },
      "source": [
        "\n",
        "\n",
        "## 2.2.   LBP\n",
        "\n"
      ]
    },
    {
      "cell_type": "code",
      "metadata": {
        "id": "oig7PVOSP8Gs",
        "colab_type": "code",
        "colab": {}
      },
      "source": [
        "#defining LBP\n",
        "class LocalBinaryPatterns:\n",
        "  #initializing function\n",
        "\tdef __init__(self, numPoints, radius):\n",
        "\t\tself.numPoints = numPoints\n",
        "\t\tself.radius = radius\n",
        " \n",
        " #function to extract LBP feature\n",
        "\tdef LBPfeatures(self, image, eps=1e-7):\n",
        "\t\tlbp = feature.local_binary_pattern(image, self.numPoints, self.radius, method=\"uniform\")\n",
        "    #converting it to histogram\n",
        "\t\t(hist, _) = np.histogram(lbp.ravel(), bins=np.arange(0, self.numPoints + 3), range=(0, self.numPoints + 2))\n",
        " \n",
        "\t\t# normalize the histogram\n",
        "\t\thist = hist.astype(\"float\")\n",
        "\t\thist /= (hist.sum() + eps)\n",
        " \n",
        "\t\treturn hist"
      ],
      "execution_count": 0,
      "outputs": []
    },
    {
      "cell_type": "code",
      "metadata": {
        "id": "yTx8Z2JnYxcy",
        "colab_type": "code",
        "outputId": "24384723-90e0-4afc-bb29-91cdbdb16506",
        "colab": {
          "base_uri": "https://localhost:8080/",
          "height": 51
        }
      },
      "source": [
        "# Creating object and extracting LBP feature from training data\n",
        "lbp_obj = LocalBinaryPatterns(24, 8)\n",
        "l_x_train = []\n",
        "l_y_train = []\n",
        "\n",
        "# Processing one Image at a time\n",
        "for i in range(len(r_x_train)):\n",
        "\tlbp_img = (r_x_train[i])\n",
        "\tlbp_hist = lbp_obj.LBPfeatures(lbp_img)\n",
        "\tl_x_train.append(lbp_hist)\n",
        "\tl_y_train.append(y_train[i])\n",
        " \n",
        "\n",
        "print(np.shape(l_x_train))\n",
        "print(np.shape(l_y_train))"
      ],
      "execution_count": 35,
      "outputs": [
        {
          "output_type": "stream",
          "text": [
            "(60000, 26)\n",
            "(60000,)\n"
          ],
          "name": "stdout"
        }
      ]
    },
    {
      "cell_type": "code",
      "metadata": {
        "id": "YhUQARfIZgRt",
        "colab_type": "code",
        "outputId": "7c5275e8-40e2-43d6-db07-ebea4ca57202",
        "colab": {
          "base_uri": "https://localhost:8080/",
          "height": 51
        }
      },
      "source": [
        "# Creating object and extracting LBP feature from testing data\n",
        "lbp_obj = LocalBinaryPatterns(24, 8)\n",
        "l_x_test = []\n",
        "l_y_test = []\n",
        "\n",
        "# Processing one Image at a time\n",
        "for i in range(len(r_x_test)):\n",
        "\tlbp_img = (r_x_test[i])\n",
        "\tlbp_hist = lbp_obj.LBPfeatures(lbp_img)\n",
        "\tl_x_test.append(lbp_hist)\n",
        "\tl_y_test.append(y_test[i])\n",
        " \n",
        "\n",
        "print(np.shape(l_x_test))\n",
        "print(np.shape(l_y_test))"
      ],
      "execution_count": 36,
      "outputs": [
        {
          "output_type": "stream",
          "text": [
            "(10000, 26)\n",
            "(10000,)\n"
          ],
          "name": "stdout"
        }
      ]
    },
    {
      "cell_type": "markdown",
      "metadata": {
        "id": "cTwza3SWgvF2",
        "colab_type": "text"
      },
      "source": [
        "\n",
        "#3.   SVM\n",
        "\n",
        "\n"
      ]
    },
    {
      "cell_type": "markdown",
      "metadata": {
        "id": "4-njWYtIgzBV",
        "colab_type": "text"
      },
      "source": [
        "\n",
        "\n",
        "## 3.1.   Training and evaluating SVM with LBP\n",
        "\n"
      ]
    },
    {
      "cell_type": "code",
      "metadata": {
        "id": "26LI7muKjd0M",
        "colab_type": "code",
        "outputId": "78226128-0b6d-4383-9698-ac16072eae69",
        "colab": {
          "base_uri": "https://localhost:8080/",
          "height": 85
        }
      },
      "source": [
        "#creating SVM model and Fitting Training Data into it\n",
        "lbp_svm = svm.SVC(kernel='rbf', C=100.0, random_state=42)\n",
        "lbp_svm.fit(l_x_train, l_y_train)\n"
      ],
      "execution_count": 37,
      "outputs": [
        {
          "output_type": "execute_result",
          "data": {
            "text/plain": [
              "SVC(C=100.0, break_ties=False, cache_size=200, class_weight=None, coef0=0.0,\n",
              "    decision_function_shape='ovr', degree=3, gamma='scale', kernel='rbf',\n",
              "    max_iter=-1, probability=False, random_state=42, shrinking=True, tol=0.001,\n",
              "    verbose=False)"
            ]
          },
          "metadata": {
            "tags": []
          },
          "execution_count": 37
        }
      ]
    },
    {
      "cell_type": "code",
      "metadata": {
        "id": "-UEB-Kcnjikp",
        "colab_type": "code",
        "outputId": "19b462c2-9e8a-456a-c33f-050f9db44669",
        "colab": {
          "base_uri": "https://localhost:8080/",
          "height": 34
        }
      },
      "source": [
        "# Check the training accuray\n",
        "print(\"Train set Accuracy: {:.2f}\".format(lbp_svm.score(l_x_train,l_y_train)))"
      ],
      "execution_count": 38,
      "outputs": [
        {
          "output_type": "stream",
          "text": [
            "Train set Accuracy: 0.51\n"
          ],
          "name": "stdout"
        }
      ]
    },
    {
      "cell_type": "code",
      "metadata": {
        "id": "ahKauqv0jnOl",
        "colab_type": "code",
        "colab": {}
      },
      "source": [
        "# Predicting lables of testing set \n",
        "lbp_svm_pred = lbp_svm.predict(l_x_test)"
      ],
      "execution_count": 0,
      "outputs": []
    },
    {
      "cell_type": "code",
      "metadata": {
        "id": "k-MOwQ1EjpK9",
        "colab_type": "code",
        "outputId": "3089f5fc-8698-43c3-fcbf-f798f8f90d46",
        "colab": {
          "base_uri": "https://localhost:8080/",
          "height": 34
        }
      },
      "source": [
        "#measuring training accuracy\n",
        "lbp_svm_acc = metrics.accuracy_score(y_test, lbp_svm_pred)\n",
        "print(\"Accuracy on test dataset:\",lbp_svm_acc)"
      ],
      "execution_count": 40,
      "outputs": [
        {
          "output_type": "stream",
          "text": [
            "Accuracy on test dataset: 0.5211\n"
          ],
          "name": "stdout"
        }
      ]
    },
    {
      "cell_type": "code",
      "metadata": {
        "id": "BljSzvcYj0Th",
        "colab_type": "code",
        "outputId": "116cacb4-e8c4-4093-e59e-50ec2848c63c",
        "colab": {
          "base_uri": "https://localhost:8080/",
          "height": 221
        }
      },
      "source": [
        "# plot the confusion matrix\n",
        "print(\"Y axis represents the actual label with 0 as lower and 9 as upper\")\n",
        "print(\"X axis represents the predicted label with 0 as leftmost and 9 as rightmost\")\n",
        "cm  = metrics.confusion_matrix(l_y_test, lbp_svm_pred)\n",
        "print(cm)"
      ],
      "execution_count": 41,
      "outputs": [
        {
          "output_type": "stream",
          "text": [
            "Y axis represents the actual label with 0 as lower and 9 as upper\n",
            "X axis represents the predicted label with 0 as leftmost and 9 as rightmost\n",
            "[[ 918    0   11    4    1   25    0    3    3   15]\n",
            " [   0 1091    3    0    3    1    1   29    7    0]\n",
            " [  21    1  502   86   47   72   50  144   88   21]\n",
            " [  31   16  155  274   91  113   35  130  105   60]\n",
            " [   7    3  105   23  387   23   46   70   66  252]\n",
            " [ 102    9   94   94   84  211   30  162   40   66]\n",
            " [  56   14  182   61   58   69  140  115  138  125]\n",
            " [  14   56   68   16   67   49   23  685   23   27]\n",
            " [  33    3   54   94   71   20   60   31  528   80]\n",
            " [  49   14   15   38  204   39   58   51   66  475]]\n"
          ],
          "name": "stdout"
        }
      ]
    },
    {
      "cell_type": "code",
      "metadata": {
        "id": "QQ7h6Qc8kJTz",
        "colab_type": "code",
        "colab": {}
      },
      "source": [
        "# Display the some classification result on test samples\n",
        "lbp_svm_img = []\n",
        "lbp_svm_lbl = []\n",
        " \n",
        "# randomly select a few testing fashion items\n",
        "for i in np.random.choice(np.arange(0, len(y_test)), size=(16,)):\n",
        "  histog = (l_x_test[i])\n",
        "  prediction = lbp_svm.predict(histog.reshape(1, -1))[0]\n",
        "  image = r_x_test[i]\n",
        "  lbp_svm_img.append(image)\n",
        "  lbp_svm_lbl.append(prediction)"
      ],
      "execution_count": 0,
      "outputs": []
    },
    {
      "cell_type": "code",
      "metadata": {
        "id": "1xxBQX368d97",
        "colab_type": "code",
        "outputId": "f6a611ae-b876-4a24-c534-295187ba8328",
        "colab": {
          "base_uri": "https://localhost:8080/",
          "height": 374
        }
      },
      "source": [
        "#plotting random predicted outputs\n",
        "fig = plt.figure(figsize=(8,8))\n",
        "for i in range (1,11):\n",
        "  fig.add_subplot(2,5,i)\n",
        "  plt.title(lbp_svm_lbl[i-1], size= 30)\n",
        "  plt.imshow(lbp_svm_img[i-1])\n",
        "  plt.axis('off')\n",
        "\n",
        "plt.show()"
      ],
      "execution_count": 43,
      "outputs": [
        {
          "output_type": "display_data",
          "data": {
            "image/png": "[encoded data removed]",
            "text/plain": [
              "<Figure size 576x576 with 10 Axes>"
            ]
          },
          "metadata": {
            "tags": [],
            "needs_background": "light"
          }
        }
      ]
    },
    {
      "cell_type": "markdown",
      "metadata": {
        "id": "0ZLak2iekZPb",
        "colab_type": "text"
      },
      "source": [
        "\n",
        "\n",
        "## 3.2.   Training and evaluating SVM with HoG\n",
        "\n",
        "\n"
      ]
    },
    {
      "cell_type": "code",
      "metadata": {
        "id": "iKuoeEpdkyLG",
        "colab_type": "code",
        "outputId": "f67abe01-c0b4-4f80-b79f-d4e84b41e6f7",
        "colab": {
          "base_uri": "https://localhost:8080/",
          "height": 85
        }
      },
      "source": [
        "#creating SVM model and Fitting Training Data into it\n",
        "hog_svm = svm.SVC(kernel='rbf', C=100.0, random_state=42)\n",
        "hog_svm.fit(h_x_train, h_y_train)"
      ],
      "execution_count": 44,
      "outputs": [
        {
          "output_type": "execute_result",
          "data": {
            "text/plain": [
              "SVC(C=100.0, break_ties=False, cache_size=200, class_weight=None, coef0=0.0,\n",
              "    decision_function_shape='ovr', degree=3, gamma='scale', kernel='rbf',\n",
              "    max_iter=-1, probability=False, random_state=42, shrinking=True, tol=0.001,\n",
              "    verbose=False)"
            ]
          },
          "metadata": {
            "tags": []
          },
          "execution_count": 44
        }
      ]
    },
    {
      "cell_type": "code",
      "metadata": {
        "id": "6_hdW6YUk0n_",
        "colab_type": "code",
        "outputId": "05f96a4d-0c25-40cd-b7e9-eb76704b0396",
        "colab": {
          "base_uri": "https://localhost:8080/",
          "height": 34
        }
      },
      "source": [
        "# Check the training accuray\n",
        "print(\"Train set Accuracy: {:.2f}\".format(hog_svm.score(h_x_train,h_y_train)))"
      ],
      "execution_count": 45,
      "outputs": [
        {
          "output_type": "stream",
          "text": [
            "Train set Accuracy: 0.99\n"
          ],
          "name": "stdout"
        }
      ]
    },
    {
      "cell_type": "code",
      "metadata": {
        "id": "QMFWjT88laBx",
        "colab_type": "code",
        "colab": {}
      },
      "source": [
        "# Predicting lables of testing set \n",
        "hog_svm_pred = hog_svm.predict(h_x_test)"
      ],
      "execution_count": 0,
      "outputs": []
    },
    {
      "cell_type": "code",
      "metadata": {
        "id": "_F8WmVAGlcfQ",
        "colab_type": "code",
        "outputId": "419bf1d8-2a14-47ea-b1ab-f4de87998f4c",
        "colab": {
          "base_uri": "https://localhost:8080/",
          "height": 34
        }
      },
      "source": [
        "#measuring testing accuracy\n",
        "hog_svm_acc = metrics.accuracy_score(y_test, hog_svm_pred)\n",
        "print(\"Accuracy on test dataset:\",hog_svm_acc)"
      ],
      "execution_count": 47,
      "outputs": [
        {
          "output_type": "stream",
          "text": [
            "Accuracy on test dataset: 0.9098\n"
          ],
          "name": "stdout"
        }
      ]
    },
    {
      "cell_type": "code",
      "metadata": {
        "id": "ug8lLoRrlfHj",
        "colab_type": "code",
        "outputId": "2b0354b2-c5fe-477e-b474-37e9c0b97645",
        "colab": {
          "base_uri": "https://localhost:8080/",
          "height": 221
        }
      },
      "source": [
        "# plot the confusion matrix\n",
        "print(\"Y axis represents the actual label with 0 as lower and 9 as upper\")\n",
        "print(\"X axis represents the predicted label with 0 as leftmost and 9 as rightmost\")\n",
        "cm  = metrics.confusion_matrix(h_y_test, hog_svm_pred)\n",
        "print(cm)"
      ],
      "execution_count": 48,
      "outputs": [
        {
          "output_type": "stream",
          "text": [
            "Y axis represents the actual label with 0 as lower and 9 as upper\n",
            "X axis represents the predicted label with 0 as leftmost and 9 as rightmost\n",
            "[[ 924    5    5    1    2    3   20    0   15    5]\n",
            " [   6 1118    3    2    0    0    4    1    1    0]\n",
            " [   7    3  922   39    3    1    1   34   19    3]\n",
            " [   2    2   40  890    1   28    0   19   23    5]\n",
            " [   3    3    6    1  917    1   35    4    5    7]\n",
            " [   5    1    6   31    4  805    9    4   18    9]\n",
            " [  19    2    3    0   31   10  883    0    7    3]\n",
            " [   2    8   40   33    1    5    0  926    3   10]\n",
            " [  35    1   20   32    7   20   15    1  806   37]\n",
            " [  13    7    5   12   12   14    2   12   25  907]]\n"
          ],
          "name": "stdout"
        }
      ]
    },
    {
      "cell_type": "code",
      "metadata": {
        "id": "VFX3OI6rlhgH",
        "colab_type": "code",
        "colab": {}
      },
      "source": [
        "# Display the some classification result on test samples\n",
        "hog_svm_img = []\n",
        "hog_svm_lbl = []\n",
        "\n",
        " \n",
        "# randomly select a few testing fashion items\n",
        "for i in np.random.choice(np.arange(0, len(y_test)), size=(16,)):\n",
        "  histog = (h_x_test[i])\n",
        "  prediction = hog_svm.predict(histog.reshape(1, -1))[0]\n",
        "  image = r_x_test[i]\n",
        "  hog_svm_img.append(image)\n",
        "  hog_svm_lbl.append(prediction)"
      ],
      "execution_count": 0,
      "outputs": []
    },
    {
      "cell_type": "code",
      "metadata": {
        "id": "_wTFPpvO839N",
        "colab_type": "code",
        "outputId": "39f86ad7-23ec-43fa-b033-93fc4841d5f3",
        "colab": {
          "base_uri": "https://localhost:8080/",
          "height": 374
        }
      },
      "source": [
        "#plotting random predicted outputs\n",
        "fig = plt.figure(figsize=(8,8))\n",
        "for i in range (1,11):\n",
        "  fig.add_subplot(2,5,i)\n",
        "  plt.title(hog_svm_lbl[i-1], size= 30)\n",
        "  plt.imshow(hog_svm_img[i-1])\n",
        "  plt.axis('off')\n",
        "\n",
        "plt.show()"
      ],
      "execution_count": 50,
      "outputs": [
        {
          "output_type": "display_data",
          "data": {
            "image/png": "[encoded data removed]",
            "text/plain": [
              "<Figure size 576x576 with 10 Axes>"
            ]
          },
          "metadata": {
            "tags": [],
            "needs_background": "light"
          }
        }
      ]
    },
    {
      "cell_type": "markdown",
      "metadata": {
        "id": "QCmzDxH3qD-d",
        "colab_type": "text"
      },
      "source": [
        "\n",
        "\n",
        "##3.3.   Training and evaluating SVM with Raw Data\n",
        "\n"
      ]
    },
    {
      "cell_type": "code",
      "metadata": {
        "id": "IHNiB9kRqEmY",
        "colab_type": "code",
        "outputId": "43aad78e-61f0-4fd9-d8fa-7d5945b62917",
        "colab": {
          "base_uri": "https://localhost:8080/",
          "height": 34
        }
      },
      "source": [
        "#checking Input shape\n",
        "np.shape(r_x_train)"
      ],
      "execution_count": 51,
      "outputs": [
        {
          "output_type": "execute_result",
          "data": {
            "text/plain": [
              "(60000, 28, 28)"
            ]
          },
          "metadata": {
            "tags": []
          },
          "execution_count": 51
        }
      ]
    },
    {
      "cell_type": "code",
      "metadata": {
        "id": "Zy0mJFAtqQz4",
        "colab_type": "code",
        "outputId": "36961cc7-ba53-4062-a474-0e887e2eec98",
        "colab": {
          "base_uri": "https://localhost:8080/",
          "height": 34
        }
      },
      "source": [
        "#checking output shape\n",
        "np.shape(y_train)"
      ],
      "execution_count": 52,
      "outputs": [
        {
          "output_type": "execute_result",
          "data": {
            "text/plain": [
              "(60000,)"
            ]
          },
          "metadata": {
            "tags": []
          },
          "execution_count": 52
        }
      ]
    },
    {
      "cell_type": "code",
      "metadata": {
        "id": "X43D929PqRYg",
        "colab_type": "code",
        "outputId": "3b1c69d0-b5b4-4f34-811e-8b9e84289495",
        "colab": {
          "base_uri": "https://localhost:8080/",
          "height": 85
        }
      },
      "source": [
        "#creating SVM model and Fitting Training Data into it\n",
        "raw_svm = svm.SVC(kernel='rbf', C=100.0, random_state=42)\n",
        "raw_svm.fit(n_x_train, y_train)"
      ],
      "execution_count": 53,
      "outputs": [
        {
          "output_type": "execute_result",
          "data": {
            "text/plain": [
              "SVC(C=100.0, break_ties=False, cache_size=200, class_weight=None, coef0=0.0,\n",
              "    decision_function_shape='ovr', degree=3, gamma='scale', kernel='rbf',\n",
              "    max_iter=-1, probability=False, random_state=42, shrinking=True, tol=0.001,\n",
              "    verbose=False)"
            ]
          },
          "metadata": {
            "tags": []
          },
          "execution_count": 53
        }
      ]
    },
    {
      "cell_type": "code",
      "metadata": {
        "id": "MYcYf6xsqR6k",
        "colab_type": "code",
        "outputId": "2863b2d5-2e09-4efb-c233-c989b2b842e2",
        "colab": {
          "base_uri": "https://localhost:8080/",
          "height": 34
        }
      },
      "source": [
        "# Check the training accuray\n",
        "print(\"Train set Accuracy: {:.2f}\".format(raw_svm.score(n_x_train,y_train)))"
      ],
      "execution_count": 54,
      "outputs": [
        {
          "output_type": "stream",
          "text": [
            "Train set Accuracy: 1.00\n"
          ],
          "name": "stdout"
        }
      ]
    },
    {
      "cell_type": "code",
      "metadata": {
        "id": "27Rtvu7BqSaK",
        "colab_type": "code",
        "colab": {}
      },
      "source": [
        "# Predicting lables of testing set \n",
        "raw_svm_pred = raw_svm.predict(n_x_test)"
      ],
      "execution_count": 0,
      "outputs": []
    },
    {
      "cell_type": "code",
      "metadata": {
        "id": "4j6xZihXqSvE",
        "colab_type": "code",
        "outputId": "7bc8da19-d4fa-4ca5-85ca-bf6972acdfdf",
        "colab": {
          "base_uri": "https://localhost:8080/",
          "height": 34
        }
      },
      "source": [
        "#measuring testing accuracy\n",
        "raw_svm_acc = metrics.accuracy_score(y_test, raw_svm_pred)\n",
        "print(\"Accuracy on test dataset:\",raw_svm_acc)"
      ],
      "execution_count": 56,
      "outputs": [
        {
          "output_type": "stream",
          "text": [
            "Accuracy on test dataset: 0.9833\n"
          ],
          "name": "stdout"
        }
      ]
    },
    {
      "cell_type": "code",
      "metadata": {
        "id": "9IKgBiXxqhUl",
        "colab_type": "code",
        "outputId": "d478c6de-2dcf-4200-ab9d-7f2fc5798268",
        "colab": {
          "base_uri": "https://localhost:8080/",
          "height": 221
        }
      },
      "source": [
        "# plot the confusion matrix\n",
        "print(\"Y axis represents the actual label with 0 as lower and 9 as upper\")\n",
        "print(\"X axis represents the predicted label with 0 as leftmost and 9 as rightmost\")\n",
        "cm  = metrics.confusion_matrix(y_test, raw_svm_pred)\n",
        "print(cm)"
      ],
      "execution_count": 57,
      "outputs": [
        {
          "output_type": "stream",
          "text": [
            "Y axis represents the actual label with 0 as lower and 9 as upper\n",
            "X axis represents the predicted label with 0 as leftmost and 9 as rightmost\n",
            "[[ 973    0    2    0    0    2    0    1    2    0]\n",
            " [   0 1129    2    1    0    1    0    1    1    0]\n",
            " [   5    1 1014    0    1    0    1    6    4    0]\n",
            " [   0    0    2  995    0    2    0    4    4    3]\n",
            " [   0    0    4    0  967    0    2    0    0    9]\n",
            " [   2    0    0    9    1  872    3    0    3    2]\n",
            " [   5    2    0    0    2    3  945    0    1    0]\n",
            " [   0    5    9    2    1    0    0 1005    0    6]\n",
            " [   3    0    2    4    3    1    1    2  954    4]\n",
            " [   1    5    0    7    9    3    1    4    0  979]]\n"
          ],
          "name": "stdout"
        }
      ]
    },
    {
      "cell_type": "code",
      "metadata": {
        "id": "6ApCAIrgqiuI",
        "colab_type": "code",
        "colab": {}
      },
      "source": [
        "# Display the some classification result on test samples\n",
        "raw_svm_img = []\n",
        "raw_svm_lbl = []\n",
        "\n",
        " \n",
        "# randomly select a few testing fashion items\n",
        "for i in np.random.choice(np.arange(0, len(y_test)), size=(16,)):\n",
        "  raw = (n_x_test[i])\n",
        "  prediction = raw_svm.predict(raw.reshape(1, -1))[0]\n",
        "  image = r_x_test[i]\n",
        "  raw_svm_img.append(image)\n",
        "  raw_svm_lbl.append(prediction)"
      ],
      "execution_count": 0,
      "outputs": []
    },
    {
      "cell_type": "code",
      "metadata": {
        "id": "jEne53NH9UpB",
        "colab_type": "code",
        "outputId": "1395a566-9b2b-4f1f-a643-7f0a33f98cb4",
        "colab": {
          "base_uri": "https://localhost:8080/",
          "height": 374
        }
      },
      "source": [
        "#plotting random predicted outputs\n",
        "fig = plt.figure(figsize=(8,8))\n",
        "for i in range (1,11):\n",
        "  fig.add_subplot(2,5,i)\n",
        "  plt.title(raw_svm_lbl[i-1], size= 30)\n",
        "  plt.imshow(raw_svm_img[i-1])\n",
        "  plt.axis('off')\n",
        "\n",
        "plt.show()"
      ],
      "execution_count": 59,
      "outputs": [
        {
          "output_type": "display_data",
          "data": {
            "image/png": "[encoded data removed]",
            "text/plain": [
              "<Figure size 576x576 with 10 Axes>"
            ]
          },
          "metadata": {
            "tags": [],
            "needs_background": "light"
          }
        }
      ]
    }
  ]
}