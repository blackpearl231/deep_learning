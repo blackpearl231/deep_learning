{
  "nbformat": 4,
  "nbformat_minor": 0,
  "metadata": {
    "colab": {
      "name": "13326487_Krut_A1_KNN.ipynb",
      "provenance": [],
      "toc_visible": true
    },
    "kernelspec": {
      "name": "python3",
      "display_name": "Python 3"
    }
  },
  "cells": [
    {
      "cell_type": "markdown",
      "metadata": {
        "id": "qzmTSTbSJ6Ck",
        "colab_type": "text"
      },
      "source": [
        " \n",
        "\n",
        "# 1.   Preprocessing\n",
        "\n",
        "\n",
        "\n",
        "\n"
      ]
    },
    {
      "cell_type": "markdown",
      "metadata": {
        "id": "zwdTHUUmKC9E",
        "colab_type": "text"
      },
      "source": [
        "  ## 1.1.   Importing Libraries"
      ]
    },
    {
      "cell_type": "code",
      "metadata": {
        "id": "4k5NJFETITsF",
        "colab_type": "code",
        "colab": {}
      },
      "source": [
        "import cv2\n",
        "import matplotlib.pyplot  as plt\n",
        "import numpy              as np\n",
        "import pandas             as pd\n",
        "from sklearn.neighbors    import KNeighborsClassifier\n",
        "from sklearn              import metrics\n",
        "from sklearn.metrics      import accuracy_score\n",
        "from skimage              import feature\n",
        "\n",
        "%matplotlib inline"
      ],
      "execution_count": 0,
      "outputs": []
    },
    {
      "cell_type": "markdown",
      "metadata": {
        "id": "mFWJ1QWVKhIp",
        "colab_type": "text"
      },
      "source": [
        "## 1.2.   Mounting Google Drive\n"
      ]
    },
    {
      "cell_type": "code",
      "metadata": {
        "id": "tlJ2yxuWKk-z",
        "colab_type": "code",
        "outputId": "f0c74408-a2bf-4ace-8faa-3c916d578192",
        "colab": {
          "base_uri": "https://localhost:8080/",
          "height": 35
        }
      },
      "source": [
        "from google.colab import drive\n",
        "drive.mount('/content/gdrive/')"
      ],
      "execution_count": 4,
      "outputs": [
        {
          "output_type": "stream",
          "text": [
            "Drive already mounted at /content/gdrive/; to attempt to forcibly remount, call drive.mount(\"/content/gdrive/\", force_remount=True).\n"
          ],
          "name": "stdout"
        }
      ]
    },
    {
      "cell_type": "code",
      "metadata": {
        "id": "FH6I75kXKlUs",
        "colab_type": "code",
        "outputId": "1d2044ba-6184-4c21-edae-8ddbb90c182e",
        "colab": {
          "base_uri": "https://localhost:8080/",
          "height": 35
        }
      },
      "source": [
        "cd /content/gdrive/My\\ Drive/a1"
      ],
      "execution_count": 3,
      "outputs": [
        {
          "output_type": "stream",
          "text": [
            "/content/gdrive/My Drive/a1\n"
          ],
          "name": "stdout"
        }
      ]
    },
    {
      "cell_type": "code",
      "metadata": {
        "id": "9JJWNkFDKlwh",
        "colab_type": "code",
        "outputId": "3f7b6d14-8600-4a3d-e33b-696b3f5f327c",
        "colab": {
          "base_uri": "https://localhost:8080/",
          "height": 108
        }
      },
      "source": [
        "ls"
      ],
      "execution_count": 4,
      "outputs": [
        {
          "output_type": "stream",
          "text": [
            "13326487_Krut_A1_ANN.ipynb  t10k-images-idx3-ubyte.gz\n",
            "13326487_Krut_A1.ipynb      t10k-labels-idx1-ubyte.gz\n",
            "13326487_Krut_A1_KNN.ipynb  train-images-idx3-ubyte.gz\n",
            "13326487_Krut_A1_SVM.ipynb  train-labels-idx1-ubyte.gz\n",
            "DNN_A1.ipynb\n"
          ],
          "name": "stdout"
        }
      ]
    },
    {
      "cell_type": "markdown",
      "metadata": {
        "id": "uWIB5WvgLfDK",
        "colab_type": "text"
      },
      "source": [
        "\n",
        "\n",
        "## 1.3.   Dataset Preparation\n",
        "\n",
        "\n"
      ]
    },
    {
      "cell_type": "code",
      "metadata": {
        "id": "AhXBxnNzLtfo",
        "colab_type": "code",
        "colab": {}
      },
      "source": [
        "#defining the loading function\n",
        "def load_mnist(path, kind='train'):\n",
        "    import os\n",
        "    import gzip\n",
        "    import numpy as np\n",
        "\n",
        "    \"\"\"Load MNIST data from `path`\"\"\"\n",
        "    labels_path = os.path.join(path, '%s-labels-idx1-ubyte.gz'% kind)\n",
        "    images_path = os.path.join(path, '%s-images-idx3-ubyte.gz'% kind)\n",
        "\n",
        "    with gzip.open(labels_path, 'rb') as lbpath:\n",
        "        labels = np.frombuffer(lbpath.read(), dtype=np.uint8, offset=8)\n",
        "\n",
        "    with gzip.open(images_path, 'rb') as imgpath:\n",
        "        images = np.frombuffer(imgpath.read(), dtype=np.uint8, offset=16).reshape(len(labels), 784)\n",
        "\n",
        "    return images, labels"
      ],
      "execution_count": 0,
      "outputs": []
    },
    {
      "cell_type": "code",
      "metadata": {
        "id": "S6W2yJoJLvRX",
        "colab_type": "code",
        "colab": {}
      },
      "source": [
        "#Importing data into variables\n",
        "x_train, y_train = load_mnist('/content/gdrive/My Drive/a1', kind='train')\n",
        "x_test, y_test = load_mnist('/content/gdrive/My Drive/a1', kind='t10k')\n",
        "# initialize the label names\n",
        "\n",
        "labelNames = [\"0\", \"1\", \"2\",\"3\", \"4\", \"5\", \"6\", \"7\", \"8\", \"9\"]"
      ],
      "execution_count": 0,
      "outputs": []
    },
    {
      "cell_type": "code",
      "metadata": {
        "id": "eLPwp9CvMEP9",
        "colab_type": "code",
        "outputId": "1a0741ca-ad1c-40af-f670-a84ff0258468",
        "colab": {
          "base_uri": "https://localhost:8080/",
          "height": 35
        }
      },
      "source": [
        "#checking Dimentions of x_train\n",
        "np.shape(x_train)"
      ],
      "execution_count": 7,
      "outputs": [
        {
          "output_type": "execute_result",
          "data": {
            "text/plain": [
              "(60000, 784)"
            ]
          },
          "metadata": {
            "tags": []
          },
          "execution_count": 7
        }
      ]
    },
    {
      "cell_type": "code",
      "metadata": {
        "id": "HuuuHO9AMOxK",
        "colab_type": "code",
        "colab": {}
      },
      "source": [
        "#converting vector data into Pixels\n",
        "p_x_train = x_train.reshape(-1,28,28)\n",
        "p_x_test = x_test.reshape(-1,28,28)"
      ],
      "execution_count": 0,
      "outputs": []
    },
    {
      "cell_type": "code",
      "metadata": {
        "id": "ojUOwaQwMW8c",
        "colab_type": "code",
        "colab": {}
      },
      "source": [
        "#Normalizing Data\n",
        "n_x_train = x_train / 255\n",
        "n_x_test = x_test / 255"
      ],
      "execution_count": 0,
      "outputs": []
    },
    {
      "cell_type": "code",
      "metadata": {
        "id": "aCHPDY7DMoV9",
        "colab_type": "code",
        "colab": {}
      },
      "source": [
        "# Reshaping Normalized data\n",
        "r_x_train = n_x_train.reshape(-1,28,28)\n",
        "r_x_test = n_x_test.reshape(-1,28,28)"
      ],
      "execution_count": 0,
      "outputs": []
    },
    {
      "cell_type": "code",
      "metadata": {
        "id": "D0ubzqcQMyF_",
        "colab_type": "code",
        "outputId": "ba5b3d1a-4736-4627-e3a3-abe3922aeefd",
        "colab": {
          "base_uri": "https://localhost:8080/",
          "height": 35
        }
      },
      "source": [
        "#checking Dimentions of x_train\n",
        "np.shape(r_x_train)"
      ],
      "execution_count": 11,
      "outputs": [
        {
          "output_type": "execute_result",
          "data": {
            "text/plain": [
              "(60000, 28, 28)"
            ]
          },
          "metadata": {
            "tags": []
          },
          "execution_count": 11
        }
      ]
    },
    {
      "cell_type": "markdown",
      "metadata": {
        "id": "ZsxwU_lqOB_r",
        "colab_type": "text"
      },
      "source": [
        "\n",
        "\n",
        "## 1.4.   Image Plotting (Visualization)\n",
        "\n"
      ]
    },
    {
      "cell_type": "code",
      "metadata": {
        "id": "g9a_hKTo_8bA",
        "colab_type": "code",
        "colab": {}
      },
      "source": [
        "#storing image from each class\n",
        "int_labels =np.asarray(labelNames, dtype=np.int)\n",
        "class_img = []\n",
        "\n",
        "for i in range(0,10):\n",
        "  train_list = list(y_train)\n",
        "  inter = train_list.index(int_labels[i])\n",
        "  class_img.append(inter)"
      ],
      "execution_count": 0,
      "outputs": []
    },
    {
      "cell_type": "code",
      "metadata": {
        "id": "x2TNk5UBOBvO",
        "colab_type": "code",
        "outputId": "9e8e1013-e17d-4128-9e6a-477d5ae35383",
        "colab": {
          "base_uri": "https://localhost:8080/",
          "height": 102
        }
      },
      "source": [
        "#plotting image of each class\n",
        "fig = plt.figure(figsize=(15,15))\n",
        "for i in range (1,11):\n",
        "  fig.add_subplot(1,10,i)\n",
        "  plt.imshow(p_x_train[class_img[i-1]])\n",
        "  plt.axis('off')\n",
        "\n",
        "plt.show()"
      ],
      "execution_count": 13,
      "outputs": [
        {
          "output_type": "display_data",
          "data": {
            "image/png": "[encoded data removed]",
            "text/plain": [
              "<Figure size 1080x1080 with 10 Axes>"
            ]
          },
          "metadata": {
            "tags": [],
            "needs_background": "light"
          }
        }
      ]
    },
    {
      "cell_type": "markdown",
      "metadata": {
        "id": "U5aawxapPeMr",
        "colab_type": "text"
      },
      "source": [
        "\n",
        "\n",
        "# 2.   Feature Extraction\n",
        "\n",
        "\n"
      ]
    },
    {
      "cell_type": "markdown",
      "metadata": {
        "id": "Y2CaDmHFPgh9",
        "colab_type": "text"
      },
      "source": [
        "## 2.1.   HoG\n",
        "\n",
        "\n"
      ]
    },
    {
      "cell_type": "code",
      "metadata": {
        "id": "UBW9omasPrRB",
        "colab_type": "code",
        "outputId": "58c0f083-01ca-4891-d2de-9d09861bbf04",
        "colab": {
          "base_uri": "https://localhost:8080/",
          "height": 0
        }
      },
      "source": [
        "# Extracting HoG feature from training dataset\n",
        "h_x_train = []\n",
        "h_y_train = []\n",
        "\n",
        "#Extracting feature from one image at a time\n",
        "for i in range(len(r_x_train)):\n",
        "  img = (r_x_train[i])\n",
        "  hog = feature.hog(img, orientations=9, pixels_per_cell=(10, 10), cells_per_block=(2, 2), transform_sqrt=True, block_norm=\"L2-Hys\")\n",
        "  h_x_train.append(hog)\n",
        "  h_y_train.append(y_train[i])\n",
        "\n",
        "\n",
        "\n",
        "print(np.shape(h_x_train))\n",
        "print(np.shape(h_y_train))"
      ],
      "execution_count": 14,
      "outputs": [
        {
          "output_type": "stream",
          "text": [
            "(60000, 36)\n",
            "(60000,)\n"
          ],
          "name": "stdout"
        }
      ]
    },
    {
      "cell_type": "code",
      "metadata": {
        "id": "O323SXI_P_E5",
        "colab_type": "code",
        "outputId": "45cd6b6d-484e-4f52-cce2-867d48e8d473",
        "colab": {
          "base_uri": "https://localhost:8080/",
          "height": 0
        }
      },
      "source": [
        "# Extracting HoG feature from testing dataset\n",
        "h_x_test = []\n",
        "h_y_test = []\n",
        "\n",
        "for i in range(len(r_x_test)):\n",
        "  hog_img = (r_x_test[i])\n",
        "  hog = feature.hog(hog_img, orientations=9, pixels_per_cell=(10,10), cells_per_block=(2,2), transform_sqrt=True, block_norm=\"L2-Hys\")\n",
        "\n",
        "  h_x_test.append(hog)\n",
        "  h_y_test.append(y_test[i])\n",
        "\n",
        "\n",
        "print(np.shape(h_x_test))\n",
        "print(np.shape(h_y_test))\n",
        "print(h_y_test[0])"
      ],
      "execution_count": 15,
      "outputs": [
        {
          "output_type": "stream",
          "text": [
            "(10000, 36)\n",
            "(10000,)\n",
            "7\n"
          ],
          "name": "stdout"
        }
      ]
    },
    {
      "cell_type": "markdown",
      "metadata": {
        "id": "A40tbp_CP-kL",
        "colab_type": "text"
      },
      "source": [
        "\n",
        "\n",
        "## 2.2.   LBP\n",
        "\n"
      ]
    },
    {
      "cell_type": "code",
      "metadata": {
        "id": "_Cq8L8OpYq9X",
        "colab_type": "code",
        "colab": {}
      },
      "source": [
        "#defining LBP\n",
        "class LocalBinaryPatterns:\n",
        "  #initializing function\n",
        "\tdef __init__(self, numPoints, radius):\n",
        "\t\tself.numPoints = numPoints\n",
        "\t\tself.radius = radius\n",
        " \n",
        " #function to extract LBP feature\n",
        "\tdef LBPfeatures(self, image, eps=1e-7):\n",
        "\t\tlbp = feature.local_binary_pattern(image, self.numPoints, self.radius, method=\"uniform\")\n",
        "    #converting it to histogram\n",
        "\t\t(hist, _) = np.histogram(lbp.ravel(), bins=np.arange(0, self.numPoints + 3), range=(0, self.numPoints + 2))\n",
        " \n",
        "\t\t# normalize the histogram\n",
        "\t\thist = hist.astype(\"float\")\n",
        "\t\thist /= (hist.sum() + eps)\n",
        " \n",
        "\t\treturn hist"
      ],
      "execution_count": 0,
      "outputs": []
    },
    {
      "cell_type": "code",
      "metadata": {
        "id": "N9SAVVG3Ywb3",
        "colab_type": "code",
        "outputId": "93b46e39-8291-4d72-8b3a-ca20e5ddc4ae",
        "colab": {
          "base_uri": "https://localhost:8080/",
          "height": 0
        }
      },
      "source": [
        "# Creating object and extracting LBP feature from training data\n",
        "lbp_obj = LocalBinaryPatterns(24, 8)\n",
        "l_x_train = []\n",
        "l_y_train = []\n",
        "\n",
        "# Processing one Image at a time\n",
        "for i in range(len(r_x_train)):\n",
        "\tlbp_img = (r_x_train[i])\n",
        "\tlbp_hist = lbp_obj.LBPfeatures(lbp_img)\n",
        "\tl_x_train.append(lbp_hist)\n",
        "\tl_y_train.append(y_train[i])\n",
        " \n",
        "\n",
        "print(np.shape(l_x_train))\n",
        "print(np.shape(l_y_train))"
      ],
      "execution_count": 17,
      "outputs": [
        {
          "output_type": "stream",
          "text": [
            "(60000, 26)\n",
            "(60000,)\n"
          ],
          "name": "stdout"
        }
      ]
    },
    {
      "cell_type": "code",
      "metadata": {
        "id": "rtWBmrbRZhpG",
        "colab_type": "code",
        "outputId": "4c433350-be92-4d2d-811e-9bec188e6799",
        "colab": {
          "base_uri": "https://localhost:8080/",
          "height": 0
        }
      },
      "source": [
        "# Creating object and extracting LBP feature from testing data\n",
        "lbp_obj = LocalBinaryPatterns(24, 8)\n",
        "l_x_test = []\n",
        "l_y_test = []\n",
        "\n",
        "# Processing one Image at a time\n",
        "for i in range(len(r_x_test)):\n",
        "\tlbp_img = (r_x_test[i])\n",
        "\tlbp_hist = lbp_obj.LBPfeatures(lbp_img)\n",
        "\tl_x_test.append(lbp_hist)\n",
        "\tl_y_test.append(y_test[i])\n",
        " \n",
        "\n",
        "print(np.shape(l_x_test))\n",
        "print(np.shape(l_y_test))"
      ],
      "execution_count": 18,
      "outputs": [
        {
          "output_type": "stream",
          "text": [
            "(10000, 26)\n",
            "(10000,)\n"
          ],
          "name": "stdout"
        }
      ]
    },
    {
      "cell_type": "markdown",
      "metadata": {
        "id": "fnv3Ve6PuYwP",
        "colab_type": "text"
      },
      "source": [
        "\n",
        "\n",
        "# 4.   KNN\n",
        "\n",
        "\n"
      ]
    },
    {
      "cell_type": "markdown",
      "metadata": {
        "id": "8N2dROboubqt",
        "colab_type": "text"
      },
      "source": [
        "\n",
        "\n",
        "## 4.1.   Training and evaluating KNN with LBP\n",
        "\n"
      ]
    },
    {
      "cell_type": "code",
      "metadata": {
        "id": "etzZjiJXuffh",
        "colab_type": "code",
        "outputId": "2f26a1c0-c6b5-4d21-aa55-dadbef82e68b",
        "colab": {
          "base_uri": "https://localhost:8080/",
          "height": 0
        }
      },
      "source": [
        "#training KNN with LBP feature\n",
        "lbp_knn = KNeighborsClassifier(n_neighbors=5)\n",
        "lbp_knn.fit(l_x_train, l_y_train)"
      ],
      "execution_count": 19,
      "outputs": [
        {
          "output_type": "execute_result",
          "data": {
            "text/plain": [
              "KNeighborsClassifier(algorithm='auto', leaf_size=30, metric='minkowski',\n",
              "                     metric_params=None, n_jobs=None, n_neighbors=5, p=2,\n",
              "                     weights='uniform')"
            ]
          },
          "metadata": {
            "tags": []
          },
          "execution_count": 19
        }
      ]
    },
    {
      "cell_type": "code",
      "metadata": {
        "id": "PZkNNcsB1634",
        "colab_type": "code",
        "outputId": "db993cd8-6f83-46b8-d9b9-6757b4e20dc5",
        "colab": {
          "base_uri": "https://localhost:8080/",
          "height": 0
        }
      },
      "source": [
        "# Check the training accuray\n",
        "print(\"Train set Accuracy: {:.2f}\".format(lbp_knn.score(l_x_train,l_y_train)))"
      ],
      "execution_count": 20,
      "outputs": [
        {
          "output_type": "stream",
          "text": [
            "Train set Accuracy: 0.61\n"
          ],
          "name": "stdout"
        }
      ]
    },
    {
      "cell_type": "code",
      "metadata": {
        "id": "KRhDZaBl5DbJ",
        "colab_type": "code",
        "colab": {}
      },
      "source": [
        "# Predicting lables of testing set \n",
        "lbp_knn_pred = lbp_knn.predict(l_x_test)"
      ],
      "execution_count": 0,
      "outputs": []
    },
    {
      "cell_type": "code",
      "metadata": {
        "id": "Sb8ZpUnO5GK-",
        "colab_type": "code",
        "outputId": "b24e22f6-3a79-4c4a-83c6-85a8a5f57696",
        "colab": {
          "base_uri": "https://localhost:8080/",
          "height": 0
        }
      },
      "source": [
        "#measuring test accuracy\n",
        "lbp_knn_acc = metrics.accuracy_score(l_y_test, lbp_knn_pred)\n",
        "print(\"Accuracy on test dataset:\",lbp_knn_acc)"
      ],
      "execution_count": 22,
      "outputs": [
        {
          "output_type": "stream",
          "text": [
            "Accuracy on test dataset: 0.4558\n"
          ],
          "name": "stdout"
        }
      ]
    },
    {
      "cell_type": "code",
      "metadata": {
        "id": "F3DrZ9YE5KMI",
        "colab_type": "code",
        "outputId": "a09bfb3f-c962-436a-ebb5-d9bc2a946890",
        "colab": {
          "base_uri": "https://localhost:8080/",
          "height": 0
        }
      },
      "source": [
        "# plot the confusion matrix\n",
        "print(\"Y axis represents the actual label with 0 as lower and 9 as upper\")\n",
        "print(\"X axis represents the predicted label with 0 as leftmost and 9 as rightmost\")\n",
        "cm  = metrics.confusion_matrix(l_y_test, lbp_knn_pred)\n",
        "print(cm)"
      ],
      "execution_count": 23,
      "outputs": [
        {
          "output_type": "stream",
          "text": [
            "Y axis represents the actual label with 0 as lower and 9 as upper\n",
            "X axis represents the predicted label with 0 as leftmost and 9 as rightmost\n",
            "[[ 875    0   12   16    9   38    7    5    3   15]\n",
            " [   0 1095    5    3    1    3    3   20    4    1]\n",
            " [  36    7  490  132   51   54   66   96   77   23]\n",
            " [  50   10  200  281   62  110   78   75   96   48]\n",
            " [  14    5  133   95  365   62   48   42   59  159]\n",
            " [ 134   13  144  171   49  142   50   92   44   53]\n",
            " [  53    9  208  153   76   76  116   69  116   82]\n",
            " [  16   57  121   91   52   79   51  507   22   32]\n",
            " [  41    4  120  147   60   35   91   17  407   52]\n",
            " [  60   19   49  116  217   66  106   33   63  280]]\n"
          ],
          "name": "stdout"
        }
      ]
    },
    {
      "cell_type": "code",
      "metadata": {
        "id": "QMrTXzcW6WiN",
        "colab_type": "code",
        "colab": {}
      },
      "source": [
        "# Display the some classification result on test samples\n",
        "lbp_knn_img = []\n",
        "lbp_knn_lbl = []\n",
        "\n",
        " \n",
        "# randomly select a few testing fashion items\n",
        "for i in np.random.choice(np.arange(0, len(y_test)), size=(16,)):\n",
        "  # classify the clothing\n",
        "  img = (l_x_test[i])\n",
        "  prediction = lbp_knn.predict(img.reshape(1, -1))[0]\n",
        "  image = r_x_test[i]\n",
        "  lbp_knn_img.append(image)\n",
        "  lbp_knn_lbl.append(prediction)"
      ],
      "execution_count": 0,
      "outputs": []
    },
    {
      "cell_type": "code",
      "metadata": {
        "id": "ZvjnpzF0Ftzv",
        "colab_type": "code",
        "outputId": "bf468926-23b4-49b4-ffd6-12b8456b8426",
        "colab": {
          "base_uri": "https://localhost:8080/",
          "height": 0
        }
      },
      "source": [
        "#plotting random predicted outputs\n",
        "fig = plt.figure(figsize=(8,8))\n",
        "for i in range (1,11):\n",
        "  fig.add_subplot(2,5,i)\n",
        "  plt.title(lbp_knn_lbl[i-1], size= 30)\n",
        "  plt.imshow(lbp_knn_img[i-1])\n",
        "  plt.axis('off')\n",
        "\n",
        "plt.show()"
      ],
      "execution_count": 25,
      "outputs": [
        {
          "output_type": "display_data",
          "data": {
            "image/png": "[encoded data removed]",
            "text/plain": [
              "<Figure size 576x576 with 10 Axes>"
            ]
          },
          "metadata": {
            "tags": [],
            "needs_background": "light"
          }
        }
      ]
    },
    {
      "cell_type": "markdown",
      "metadata": {
        "id": "LJMTIFLWuexA",
        "colab_type": "text"
      },
      "source": [
        "## 4.2.   Training and evaluating KNN with HoG"
      ]
    },
    {
      "cell_type": "code",
      "metadata": {
        "id": "aayXqTQB7SUE",
        "colab_type": "code",
        "outputId": "5849f0f3-824d-49e8-cfa1-6a0ee9be0d19",
        "colab": {
          "base_uri": "https://localhost:8080/",
          "height": 0
        }
      },
      "source": [
        "#training KNN with LBP feature\n",
        "hog_knn = KNeighborsClassifier(n_neighbors=5)\n",
        "hog_knn.fit(h_x_train, h_y_train)"
      ],
      "execution_count": 26,
      "outputs": [
        {
          "output_type": "execute_result",
          "data": {
            "text/plain": [
              "KNeighborsClassifier(algorithm='auto', leaf_size=30, metric='minkowski',\n",
              "                     metric_params=None, n_jobs=None, n_neighbors=5, p=2,\n",
              "                     weights='uniform')"
            ]
          },
          "metadata": {
            "tags": []
          },
          "execution_count": 26
        }
      ]
    },
    {
      "cell_type": "code",
      "metadata": {
        "id": "DW1LP9BG8tuA",
        "colab_type": "code",
        "outputId": "5e0f0033-e1ba-4e9b-8051-991b0779d4c8",
        "colab": {
          "base_uri": "https://localhost:8080/",
          "height": 0
        }
      },
      "source": [
        "# Check the training accuray\n",
        "print(\"Train set Accuracy: {:.2f}\".format(hog_knn.score(h_x_train,h_y_train)))"
      ],
      "execution_count": 27,
      "outputs": [
        {
          "output_type": "stream",
          "text": [
            "Train set Accuracy: 0.91\n"
          ],
          "name": "stdout"
        }
      ]
    },
    {
      "cell_type": "code",
      "metadata": {
        "id": "yy9l_hyf87Ur",
        "colab_type": "code",
        "colab": {}
      },
      "source": [
        "# Predicting lables of testing set \n",
        "hog_knn_pred = hog_knn.predict(h_x_test)"
      ],
      "execution_count": 0,
      "outputs": []
    },
    {
      "cell_type": "code",
      "metadata": {
        "id": "tC-MxKjK89Om",
        "colab_type": "code",
        "outputId": "8e261996-f22a-4d29-b387-99cbcec49f71",
        "colab": {
          "base_uri": "https://localhost:8080/",
          "height": 0
        }
      },
      "source": [
        "#measuring test accuracy\n",
        "hog_knn_acc = metrics.accuracy_score(h_y_test, hog_knn_pred)\n",
        "print(\"Accuracy on test dataset:\",hog_knn_acc)"
      ],
      "execution_count": 29,
      "outputs": [
        {
          "output_type": "stream",
          "text": [
            "Accuracy on test dataset: 0.8766\n"
          ],
          "name": "stdout"
        }
      ]
    },
    {
      "cell_type": "code",
      "metadata": {
        "id": "ZtrxOeoO9DfB",
        "colab_type": "code",
        "outputId": "c87e3404-3751-4dc3-9ffb-60167e54a726",
        "colab": {
          "base_uri": "https://localhost:8080/",
          "height": 0
        }
      },
      "source": [
        "# plot the confusion matrix\n",
        "print(\"Y axis represents the actual label with 0 as lower and 9 as upper\")\n",
        "print(\"X axis represents the predicted label with 0 as leftmost and 9 as rightmost\")\n",
        "cm  = metrics.confusion_matrix(h_y_test, hog_knn_pred)\n",
        "print(cm)"
      ],
      "execution_count": 30,
      "outputs": [
        {
          "output_type": "stream",
          "text": [
            "Y axis represents the actual label with 0 as lower and 9 as upper\n",
            "X axis represents the predicted label with 0 as leftmost and 9 as rightmost\n",
            "[[ 908    4    6    1    1    3   21    2   23   11]\n",
            " [   4 1121    0    3    1    0    4    1    1    0]\n",
            " [  16    3  878   52    7    5    3   37   16   15]\n",
            " [   2    3   45  837    0   33    1   18   56   15]\n",
            " [   4    2    9    2  847    0   97    1    8   12]\n",
            " [   3    1   10   39    0  771   16    1   34   17]\n",
            " [  24    1    1    0   36   14  870    0    7    5]\n",
            " [  20    7   44   42    1    5    0  875    8   26]\n",
            " [  36    0   21   43    5   31   24    1  751   62]\n",
            " [  17    3    2   13    1   11    7    3   44  908]]\n"
          ],
          "name": "stdout"
        }
      ]
    },
    {
      "cell_type": "code",
      "metadata": {
        "id": "KwpiybtS9FCW",
        "colab_type": "code",
        "colab": {}
      },
      "source": [
        "# Display the some classification result on test samples\n",
        "hog_knn_img = []\n",
        "hog_knn_lbl = []\n",
        "\n",
        " \n",
        "# randomly select a few testing fashion items\n",
        "for i in np.random.choice(np.arange(0, len(y_test)), size=(16,)):\n",
        "  img = (h_x_test[i])\n",
        "  prediction = hog_knn.predict(img.reshape(1, -1))[0]\n",
        "  image = r_x_test[i]\n",
        "  hog_knn_img.append(image)\n",
        "  hog_knn_lbl.append(prediction)"
      ],
      "execution_count": 0,
      "outputs": []
    },
    {
      "cell_type": "code",
      "metadata": {
        "id": "hnVlFI8HF75z",
        "colab_type": "code",
        "outputId": "a842aeb7-ea0e-4c24-e25d-0703bc8ee858",
        "colab": {
          "base_uri": "https://localhost:8080/",
          "height": 0
        }
      },
      "source": [
        "#plotting random predicted outputs\n",
        "fig = plt.figure(figsize=(8,8))\n",
        "for i in range (1,11):\n",
        "  fig.add_subplot(2,5,i)\n",
        "  plt.title(hog_knn_lbl[i-1], size= 30)\n",
        "  plt.imshow(hog_knn_img[i-1])\n",
        "  plt.axis('off')\n",
        "\n",
        "plt.show()"
      ],
      "execution_count": 32,
      "outputs": [
        {
          "output_type": "display_data",
          "data": {
            "image/png": "[encoded data removed]",
            "text/plain": [
              "<Figure size 576x576 with 10 Axes>"
            ]
          },
          "metadata": {
            "tags": [],
            "needs_background": "light"
          }
        }
      ]
    },
    {
      "cell_type": "markdown",
      "metadata": {
        "id": "ujybJjqF9VQz",
        "colab_type": "text"
      },
      "source": [
        "## 4.3.   Training and evaluating KNN with Raw Data"
      ]
    },
    {
      "cell_type": "code",
      "metadata": {
        "id": "i8tuVeCF9V8m",
        "colab_type": "code",
        "outputId": "560230c1-f4c2-454a-d124-d9d5e9b0b79b",
        "colab": {
          "base_uri": "https://localhost:8080/",
          "height": 72
        }
      },
      "source": [
        "#training KNN with LBP feature\n",
        "raw_knn = KNeighborsClassifier(n_neighbors=5)\n",
        "raw_knn.fit(n_x_train, y_train)"
      ],
      "execution_count": 14,
      "outputs": [
        {
          "output_type": "execute_result",
          "data": {
            "text/plain": [
              "KNeighborsClassifier(algorithm='auto', leaf_size=30, metric='minkowski',\n",
              "                     metric_params=None, n_jobs=None, n_neighbors=5, p=2,\n",
              "                     weights='uniform')"
            ]
          },
          "metadata": {
            "tags": []
          },
          "execution_count": 14
        }
      ]
    },
    {
      "cell_type": "code",
      "metadata": {
        "id": "MiB2ru6E9Z-t",
        "colab_type": "code",
        "colab": {}
      },
      "source": [
        "# Check the training accuray\n",
        "print(\"Train set Accuracy: {:.2f}\".format(raw_knn.score(n_x_train,y_train)))"
      ],
      "execution_count": 0,
      "outputs": []
    },
    {
      "cell_type": "code",
      "metadata": {
        "id": "jR7PRHbI9b3h",
        "colab_type": "code",
        "colab": {}
      },
      "source": [
        "# Predicting lables of testing set \n",
        "raw_knn_pred = raw_knn.predict(n_x_test)"
      ],
      "execution_count": 0,
      "outputs": []
    },
    {
      "cell_type": "code",
      "metadata": {
        "id": "KyqJm9Z29f8v",
        "colab_type": "code",
        "outputId": "51a5561a-7e49-4244-8850-b2cda78f8d95",
        "colab": {
          "base_uri": "https://localhost:8080/",
          "height": 35
        }
      },
      "source": [
        "#measuring test accuracy\n",
        "raw_knn_acc = metrics.accuracy_score(y_test, raw_knn_pred)\n",
        "print(\"Accuracy on test dataset:\",raw_knn_acc)"
      ],
      "execution_count": 16,
      "outputs": [
        {
          "output_type": "stream",
          "text": [
            "Accuracy on test dataset: 0.9688\n"
          ],
          "name": "stdout"
        }
      ]
    },
    {
      "cell_type": "code",
      "metadata": {
        "id": "jzFe-Fas9iLe",
        "colab_type": "code",
        "outputId": "eab9b169-a6ae-4c59-f9c4-87964dca9e5a",
        "colab": {
          "base_uri": "https://localhost:8080/",
          "height": 235
        }
      },
      "source": [
        "# plot the confusion matrix\n",
        "print(\"Y axis represents the actual label with 0 as lower and 9 as upper\")\n",
        "print(\"X axis represents the predicted label with 0 as leftmost and 9 as rightmost\")\n",
        "cm  = metrics.confusion_matrix(y_test, raw_knn_pred)\n",
        "print(cm)"
      ],
      "execution_count": 17,
      "outputs": [
        {
          "output_type": "stream",
          "text": [
            "Y axis represents the actual label with 0 as lower and 9 as upper\n",
            "X axis represents the predicted label with 0 as leftmost and 9 as rightmost\n",
            "[[ 974    1    1    0    0    1    2    1    0    0]\n",
            " [   0 1133    2    0    0    0    0    0    0    0]\n",
            " [  11    8  991    2    1    0    1   15    3    0]\n",
            " [   0    3    3  976    1   13    1    6    3    4]\n",
            " [   3    7    0    0  944    0    4    2    1   21]\n",
            " [   5    0    0   12    2  862    4    1    2    4]\n",
            " [   5    3    0    0    3    2  945    0    0    0]\n",
            " [   0   22    4    0    3    0    0  988    0   11]\n",
            " [   8    3    5   13    6   12    5    5  913    4]\n",
            " [   5    7    3    9    7    3    1   10    2  962]]\n"
          ],
          "name": "stdout"
        }
      ]
    },
    {
      "cell_type": "code",
      "metadata": {
        "id": "-33Yy_VR9kLH",
        "colab_type": "code",
        "colab": {}
      },
      "source": [
        "# Display the some classification result on test samples\n",
        "raw_knn_img = []\n",
        "raw_knn_lbl = []\n",
        "\n",
        " \n",
        "# randomly select a few testing fashion items\n",
        "for i in np.random.choice(np.arange(0, len(y_test)), size=(16,)):\n",
        "  img = (n_x_test[i])\n",
        "  prediction = raw_knn.predict(img.reshape(1, -1))[0]\n",
        "  image = r_x_test[i]\n",
        "  raw_knn_img.append(image)\n",
        "  raw_knn_lbl.append(prediction)"
      ],
      "execution_count": 0,
      "outputs": []
    },
    {
      "cell_type": "code",
      "metadata": {
        "id": "AuCCAaVwGGlr",
        "colab_type": "code",
        "outputId": "ce975617-bd97-47fa-997b-33b0650a655d",
        "colab": {
          "base_uri": "https://localhost:8080/",
          "height": 374
        }
      },
      "source": [
        "#plotting random predicted outputs\n",
        "fig = plt.figure(figsize=(8,8))\n",
        "for i in range (1,11):\n",
        "  fig.add_subplot(2,5,i)\n",
        "  plt.title(raw_knn_lbl[i-1], size= 30)\n",
        "  plt.imshow(raw_knn_img[i-1])\n",
        "  plt.axis('off')\n",
        "\n",
        "plt.show()"
      ],
      "execution_count": 19,
      "outputs": [
        {
          "output_type": "display_data",
          "data": {
            "image/png": "[encoded data removed]",
            "text/plain": [
              "<Figure size 576x576 with 10 Axes>"
            ]
          },
          "metadata": {
            "tags": [],
            "needs_background": "light"
          }
        }
      ]
    }
  ]
}